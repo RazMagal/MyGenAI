{
 "cells": [
  {
   "cell_type": "code",
   "execution_count": 1,
   "id": "c15a1176-4d39-45b3-9726-12ef5b65b907",
   "metadata": {},
   "outputs": [
    {
     "data": {
      "text/plain": [
       "300"
      ]
     },
     "execution_count": 1,
     "metadata": {},
     "output_type": "execute_result"
    }
   ],
   "source": [
    "a = 100\n",
    "b = 3\n",
    "a*b"
   ]
  },
  {
   "cell_type": "code",
   "execution_count": 2,
   "id": "6f449d3e-eb8a-4905-96c1-c0e59bce541c",
   "metadata": {},
   "outputs": [
    {
     "name": "stdout",
     "output_type": "stream",
     "text": [
      "/Users/igal.nir/miniforge3/envs/ds_genai/bin/pip\n"
     ]
    }
   ],
   "source": [
    "!which pip"
   ]
  },
  {
   "cell_type": "code",
   "execution_count": 5,
   "id": "f5f66829-56d7-4b41-a58d-8ec83c57a09d",
   "metadata": {},
   "outputs": [
    {
     "name": "stdout",
     "output_type": "stream",
     "text": [
      "enter:  ········\n"
     ]
    }
   ],
   "source": [
    "# OPENAI - NOT MANDATORY! just if you have an active token with billing account\n",
    "import os\n",
    "from getpass import getpass\n",
    "os.environ['OPENAI_API_KEY'] = getpass('enter: ')"
   ]
  },
  {
   "cell_type": "code",
   "execution_count": 6,
   "id": "f8cdf7bb-164f-4e8b-8cef-881184c3cf5c",
   "metadata": {},
   "outputs": [],
   "source": [
    "from langchain_openai import ChatOpenAI"
   ]
  },
  {
   "cell_type": "code",
   "execution_count": 8,
   "id": "790468f2-a5f0-4e1e-9b92-d1b57ee66678",
   "metadata": {},
   "outputs": [
    {
     "data": {
      "text/plain": [
       "AIMessage(content='Good morning! How can I assist you today?', additional_kwargs={'refusal': None}, response_metadata={'token_usage': {'completion_tokens': 11, 'prompt_tokens': 11, 'total_tokens': 22, 'completion_tokens_details': {'accepted_prediction_tokens': 0, 'audio_tokens': 0, 'reasoning_tokens': 0, 'rejected_prediction_tokens': 0}, 'prompt_tokens_details': {'audio_tokens': 0, 'cached_tokens': 0}}, 'model_name': 'gpt-4o-mini-2024-07-18', 'system_fingerprint': 'fp_129a36352a', 'id': 'chatcmpl-BTPKozyMgrmRw4xjOR1DzVpxdYTvk', 'finish_reason': 'stop', 'logprobs': None}, id='run-8dd70316-3e95-439d-b221-148aaf46bd2f-0', usage_metadata={'input_tokens': 11, 'output_tokens': 11, 'total_tokens': 22, 'input_token_details': {'audio': 0, 'cache_read': 0}, 'output_token_details': {'audio': 0, 'reasoning': 0}})"
      ]
     },
     "execution_count": 8,
     "metadata": {},
     "output_type": "execute_result"
    }
   ],
   "source": [
    "llm1 = ChatOpenAI(model='gpt-4o-mini')\n",
    "llm1.invoke(\"goot morning intel\")"
   ]
  },
  {
   "cell_type": "code",
   "execution_count": 9,
   "id": "6dd7965b-3a02-49b1-bf74-caf17b3d3e15",
   "metadata": {},
   "outputs": [],
   "source": [
    "os.environ['HUGGINGFACEHUB_API_TOKEN'] = os.environ['MY_HF_API_TOKEN']"
   ]
  },
  {
   "cell_type": "code",
   "execution_count": 19,
   "id": "28d90639-b484-4682-9a7a-b0282699e709",
   "metadata": {},
   "outputs": [
    {
     "data": {
      "text/plain": [
       "AIMessage(content='I will evaluate companies based on numerous online rankings and surveys from reputable sources, but it\\'s essential to note that \"best\" can vary depending on personal criteria such as industry, location, job role, and culture. The following companies, as per several annual \"best companies to work for\" lists, are consistently praised for their work environments, benefits, and overall employee satisfaction:\\n\\n1. Google\\n- Location: Los Angeles, California\\n- Job Roles: Technical and non-technical (mostly)\\n- Culture: Innovating, employee-focused, and offers regular learning opportunities\\n\\n2. LinkedIn (formerly Microsoft)\\n- Location: Mountain View, California\\n- Job Roles: Technical (mostly), Industry Partnerships, Sales, Customer Success\\n- Culture: Open and innovative, leading digital signage, AI products, and services, with global team diversity\\n\\n3. Apple\\n- Location: Cupertino, California\\n- Job Roles: Technical (mostly), product design, retail, etc.\\n- Culture: Entrepreneurial, innovative, prioritizing employee well-being, promoting a healthy work-life balance, and offering various world-class locations\\n\\n4. Microsoft\\n- Location: Redmond, Washington\\n- Job Roles: Technical (mostly), Sales, Product Marketing, etc.\\n- Culture: Open and innovative, internal competition, high focus on innovation, advocating for work-life balance, supporting global inclusivity and diversity\\n\\n5. Adobe\\n- Location: San Jose, California\\n- Job Roles: Technical, Design, Sales, Business Services, etc.\\n- Culture: Promoting creativity, innovation, diversity, and inclusion. Offers world-class tech learning resources and opportunities for employee development\\n\\n6. Starbucks\\n- Location: Seattle, Washington (headquarters), plus stores across the globe\\n- Job Roles: Barista, Food Processing Manger, Opening Blane Manager, Manager, Specialty Beverage, etc.\\n- Culture: Emphasis on employee ownership by inviting them to vote for improvements. Commitment to ethical securities, sustainability, social responsibility, and constant employee training provides growth opportunities.\\n\\n7. Salesforce\\n- Location: San Francisco, California\\n- Job Roles: Technical (Salesforce, Service Cloud, Platform, Exactsolutions), Product Development (HCMS), etc.\\n- Culture: Recognized for its great customer service, open communication, focus on employee happiness, and providing various employee growth programs and professional development opportunities\\n\\n8. Amazon\\n- Location: Seattle, Washington (headquarters), plus fulfilment centers nationwide\\n- Job Roles: Fulfilment, Transportation, Customer Experience, Amazon Prime Video (ROI), and more\\n- Culture: Recognized for its hard work, employee-questioning mechanism, roving committees, and strong retention efforts, yet employee turnover remains high\\n\\n9. AIG (American International Group)\\n- Location: New York City\\n- Job Roles: Insurances, Retirement Plans, Asset Management (according to positions)\\n- Culture: While known for a rigorous work environment, older generations remain in key positions, creating an indicator of a steep learning curve. The company\\'s commitment to sustainability, health initiatives, and career growth paths are noteworthy\\n\\n10. YouGov\\n- Location: London, UK\\n- Job Roles: Analysts, Consultants, etc.\\n- Culture: Known for generating valuable industry analysis, data-backed insights, and predicting trends; offers dedicated team members and resources for global innovation projects. Focuses on collaboration, work-life balance, and employee growth.', additional_kwargs={}, response_metadata={'token_usage': ChatCompletionOutputUsage(completion_tokens=846, prompt_tokens=15, total_tokens=861), 'model': '', 'finish_reason': 'stop'}, id='run-77766a1c-ce1e-4bb1-8c83-72b9b63cd70d-0')"
      ]
     },
     "execution_count": 19,
     "metadata": {},
     "output_type": "execute_result"
    }
   ],
   "source": [
    "from langchain_huggingface import HuggingFaceEndpoint, ChatHuggingFace\n",
    "llm = HuggingFaceEndpoint(repo_id = \"microsoft/Phi-3-mini-4k-instruct\", task=\"text_generation\")\n",
    "chat = ChatHuggingFace(llm = llm)\n",
    "q = \"what are the best 10 companies to work for?\"\n",
    "ans = chat.invoke(q)\n",
    "ans\n"
   ]
  },
  {
   "cell_type": "code",
   "execution_count": 12,
   "id": "fd487bb8-df6c-4c46-a605-c78cda1bf285",
   "metadata": {},
   "outputs": [
    {
     "name": "stdout",
     "output_type": "stream",
     "text": [
      "I will evaluate companies based on numerous online rankings and surveys from reputable sources, but it's essential to note that \"best\" can vary depending on personal criteria such as industry, location, job role, and culture. The following companies, as per several annual \"best companies to work for\" lists, are consistently praised for their work environments, benefits, and overall employee satisfaction:\n",
      "\n",
      "1. Google\n",
      "- Location: Los Angeles, California\n",
      "- Job Roles: Technical and non-technical (mostly)\n",
      "- Culture: Innovating, employee-focused, and offers regular learning opportunities\n",
      "\n",
      "2. LinkedIn (formerly Microsoft)\n",
      "- Location: Mountain View, California\n",
      "- Job Roles: Technical (mostly), Industry Partnerships, Sales, Customer Success\n",
      "- Culture: Open and innovative, leading digital signage, AI products, and services, with global team diversity\n",
      "\n",
      "3. Apple\n",
      "- Location: Cupertino, California\n",
      "- Job Roles: Technical (mostly), product design, retail, etc.\n",
      "- Culture: Entrepreneurial, innovative, prioritizing employee well-being, promoting a healthy work-life balance, and offering various world-class locations\n",
      "\n",
      "4. Microsoft\n",
      "- Location: Redmond, Washington\n",
      "- Job Roles: Technical (mostly), Sales, Product Marketing, etc.\n",
      "- Culture: Open and innovative, internal competition, high focus on innovation, advocating for work-life balance, supporting global inclusivity and diversity\n",
      "\n",
      "5. Adobe\n",
      "- Location: San Jose, California\n",
      "- Job Roles: Technical, Design, Sales, Business Services, etc.\n",
      "- Culture: Promoting creativity, innovation, diversity, and inclusion. Offers world-class tech learning resources and opportunities for employee development\n",
      "\n",
      "6. Starbucks\n",
      "- Location: Seattle, Washington (headquarters), plus stores across the globe\n",
      "- Job Roles: Barista, Food Processing Manger, Opening Blane Manager, Manager, Specialty Beverage, etc.\n",
      "- Culture: Emphasis on employee ownership by inviting them to vote for improvements. Commitment to ethical securities, sustainability, social responsibility, and constant employee training provides growth opportunities.\n",
      "\n",
      "7. Salesforce\n",
      "- Location: San Francisco, California\n",
      "- Job Roles: Technical (Salesforce, Service Cloud, Platform, Exactsolutions), Product Development (HCMS), etc.\n",
      "- Culture: Recognized for its great customer service, open communication, focus on employee happiness, and providing various employee growth programs and professional development opportunities\n",
      "\n",
      "8. Amazon\n",
      "- Location: Seattle, Washington (headquarters), plus fulfilment centers nationwide\n",
      "- Job Roles: Fulfilment, Transportation, Customer Experience, Amazon Prime Video (ROI), and more\n",
      "- Culture: Recognized for its hard work, employee-questioning mechanism, roving committees, and strong retention efforts, yet employee turnover remains high\n",
      "\n",
      "9. AIG (American International Group)\n",
      "- Location: New York City\n",
      "- Job Roles: Insurances, Retirement Plans, Asset Management (according to positions)\n",
      "- Culture: While known for a rigorous work environment, older generations remain in key positions, creating an indicator of a steep learning curve. The company's commitment to sustainability, health initiatives, and career growth paths are noteworthy\n",
      "\n",
      "10. YouGov\n",
      "- Location: London, UK\n",
      "- Job Roles: Analysts, Consultants, etc.\n",
      "- Culture: Known for generating valuable industry analysis, data-backed insights, and predicting trends; offers dedicated team members and resources for global innovation projects. Focuses on collaboration, work-life balance, and employee growth.\n"
     ]
    }
   ],
   "source": [
    "print(ans.content)"
   ]
  },
  {
   "cell_type": "code",
   "execution_count": 18,
   "id": "1db2c23e-5139-459a-aecc-71081e7ff77e",
   "metadata": {},
   "outputs": [
    {
     "name": "stdout",
     "output_type": "stream",
     "text": [
      "Here's a comparison of the climate in Tel Aviv and Jerusalem:\n",
      "\n",
      "**Temperature:**\n",
      "\n",
      "* Tel Aviv:\n",
      "\t+ Summer (June to August): hot and humid, with average highs around 28-30°C (82-86°F)\n",
      "\t+ Winter (December to February): mild and wet, with average lows around 10-12°C (50-54°F)\n",
      "* Jerusalem:\n",
      "\t+ Summer: hotter than Tel Aviv, with average highs around 31-33°C (88-91°F), but with a slightly higher humidity\n",
      "\t+ Winter: colder than Tel Aviv, with average lows around 5-7°C (41-45°F)\n",
      "\n",
      "**Rainfall:**\n",
      "\n",
      "* Tel Aviv: relatively low rainfall, with an average of about 550 mm (22 in) per year. The rainy season typically occurs from November to March.\n",
      "* Jerusalem: higher rainfall than Tel Aviv, with an average of about 650 mm (26 in) per year. The rainy season is similar to Tel Aviv's.\n",
      "\n",
      "**Sunshine:**\n",
      "\n",
      "* Both cities receive a significant amount of sunshine throughout the year, but Tel Aviv tends to have more sunny days during the winter months.\n",
      "* Tel Aviv:\n",
      "\t+ Average annual sunshine hours: around 3,000-4,000\n",
      "\t+ Sunshine percentage: around 70-80% of possible sunshine\n",
      "* Jerusalem:\n",
      "\t+ Average annual sunshine hours: around 2,800-3,500\n",
      "\t+ Sunshine percentage: around 60-70% of possible sunshine\n",
      "\n",
      "**Humidity:**\n",
      "\n",
      "* Tel Aviv: relatively high humidity, especially during the summer months.\n",
      "* Jerusalem: slightly higher humidity than Tel Aviv, but with more temperature fluctuations.\n",
      "\n",
      "**Seasonal variation:**\n",
      "\n",
      "* Both cities experience a Mediterranean climate with warm summers and mild winters.\n",
      "* However, Jerusalem tends to be cooler and rainier than Tel Aviv during the winter months.\n",
      "* Summer in both cities is hot and dry, but Tel Aviv's heat is often tempered by sea breezes from the Mediterranean.\n",
      "\n",
      "**Regional differences:**\n",
      "\n",
      "* The mountains surrounding Jerusalem (including the Judean Hills and the Mount of Olives) can create a microclimate with cooler temperatures and more precipitation than the rest of the city.\n",
      "* The coastal plain where Tel Aviv is located tends to be warmer and drier than Jerusalem, but receives more sea fog in the winter months.\n",
      "\n",
      "In summary:\n",
      "\n",
      "* Tel Aviv has a slightly hotter summer and milder winter than Jerusalem.\n",
      "* Jerusalem experiences more rainfall and cooler temperatures during the winter months.\n",
      "* Both cities have a Mediterranean climate with warm summers and mild winters.\n"
     ]
    }
   ],
   "source": [
    "from langchain.llms import Ollama\n",
    "llm = Ollama(model=\"smollm:135m\")\n",
    "llm2 = Ollama(model=\"llama3.1:latest\")\n",
    "print(llm2.invoke(\"climate comparison between tel aviv and jerusalme\"))"
   ]
  },
  {
   "cell_type": "code",
   "execution_count": 17,
   "id": "02745f78-7977-44e0-a041-2a9ab22a2fe8",
   "metadata": {},
   "outputs": [
    {
     "name": "stdout",
     "output_type": "stream",
     "text": [
      "NAME               ID              SIZE      MODIFIED     \n",
      "smollm:135m        b0b2a4617438    91 MB     2 months ago    \n",
      "llama3.1:latest    46e0c10c039e    4.9 GB    2 months ago    \n",
      "bakllava:latest    3dd68bd4447c    4.7 GB    3 months ago    \n",
      "deepseek-r1:8b     28f8fd6cdc67    4.9 GB    3 months ago    \n",
      "deepseek-r1:70b    0c1615a8ca32    42 GB     3 months ago    \n",
      "llama3.3:latest    a6eb4748fd29    42 GB     3 months ago    \n",
      "llama3.2:1b        baf6a787fdff    1.3 GB    3 months ago    \n"
     ]
    }
   ],
   "source": [
    "!ollama list"
   ]
  },
  {
   "cell_type": "code",
   "execution_count": null,
   "id": "757b763e-8513-4bf8-bbd9-e5548abf51e3",
   "metadata": {},
   "outputs": [],
   "source": []
  }
 ],
 "metadata": {
  "kernelspec": {
   "display_name": "ds_genai",
   "language": "python",
   "name": "python3"
  },
  "language_info": {
   "codemirror_mode": {
    "name": "ipython",
    "version": 3
   },
   "file_extension": ".py",
   "mimetype": "text/x-python",
   "name": "python",
   "nbconvert_exporter": "python",
   "pygments_lexer": "ipython3",
   "version": "3.12.10"
  }
 },
 "nbformat": 4,
 "nbformat_minor": 5
}
